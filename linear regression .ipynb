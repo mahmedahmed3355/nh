{
  "nbformat": 4,
  "nbformat_minor": 0,
  "metadata": {
    "colab": {
      "name": "Untitled1.ipynb",
      "version": "0.3.2",
      "provenance": [],
      "include_colab_link": true
    },
    "kernelspec": {
      "name": "python3",
      "display_name": "Python 3"
    },
    "accelerator": "GPU"
  },
  "cells": [
    {
      "cell_type": "markdown",
      "metadata": {
        "id": "view-in-github",
        "colab_type": "text"
      },
      "source": [
        "<a href=\"https://colab.research.google.com/github/moh2236945/nh/blob/master/linear%20regression%20.ipynb\" target=\"_parent\"><img src=\"https://colab.research.google.com/assets/colab-badge.svg\" alt=\"Open In Colab\"/></a>"
      ]
    },
    {
      "cell_type": "code",
      "metadata": {
        "id": "TKBMiMQDn99y",
        "colab_type": "code",
        "colab": {
          "base_uri": "https://localhost:8080/",
          "height": 35
        },
        "outputId": "fb049bca-4c4e-465c-ae34-d6b27038999e"
      },
      "source": [
        "import numpy as np\n",
        "import pandas as pd\n",
        "import matplotlib.pyplot as plt\n",
        "import seaborn as sns\n",
        "import tensorflow as tf\n",
        "import xlrd\n",
        "\n",
        "DATA_FILE = \"fire_theft.xls\"\n",
        "\n",
        "# Step 1: read in data from the .xls file\n",
        "book = xlrd.open_workbook(DATA_FILE, encoding_override=\"utf-8\")\n",
        "sheet = book.sheet_by_index(0)\n",
        "data = np.asarray([sheet.row_values(i) for i in range(1, sheet.nrows)])\n",
        "n_samples = sheet.nrows - 1\n",
        "# Step 2: create placeholders for input X (number of fire) and label Y (number of theft)\n",
        "X = tf.placeholder(tf.float32, name='X')\n",
        "Y = tf.placeholder(tf.float32, name='Y')\n",
        "# Step 3: create weight and bias, initialized to 0\n",
        "w = tf.Variable(0.0, name='weights')\n",
        "b = tf.Variable(0.0, name='bias')\n",
        "\n",
        "# Step 4: build model to predict Y\n",
        "Y_predicted = X * w + b \n",
        "# Step 5: use the square error as the loss function\n",
        "loss = tf.square(Y - Y_predicted, name='loss')\n",
        "# Step 6: using gradient descent with learning rate of 0.01 to minimize loss\n",
        "optimizer = tf.train.GradientDescentOptimizer(learning_rate=0.001).minimize(loss)\n",
        "\n",
        "with tf.Session() as sess:\n",
        "\t# Step 7: initialize the necessary variables, in this case, w and b\n",
        "\tsess.run(tf.global_variables_initializer()) \n",
        "\t\n",
        "\twriter = tf.summary.FileWriter('./graphs/linear_reg', sess.graph)\n",
        "\t\n",
        "\t# Step 8: train the model\n",
        "\tfor i in range(50): # train the model 100 epochs\n",
        "\t\ttotal_loss = 0\n",
        "\t\tfor x, y in data:\n",
        "\t\t\t# Session runs train_op and fetch values of loss\n",
        "\t\t\t_, l = sess.run([optimizer, loss], feed_dict={X: x, Y:y}) \n",
        "\t\t\ttotal_loss += l\n",
        "\t\tprint('Epoch {0}: {1}'.format(i, total_loss/n_samples))\n",
        "\n",
        "\t# close the writer when you're done using it\n",
        "\twriter.close() \n",
        "\t\n",
        "\t# Step 9: output the values of w and b\n",
        "\tw, b = sess.run([w, b]) \n",
        "\n",
        "# plot the results\n",
        "X, Y = data.T[0], data.T[1]\n",
        "plt.plot(X, Y, 'bo', label='Real data')\n",
        "plt.plot(X, X * w + b, 'r', label='Predicted data')\n",
        "plt.legend()\n",
        "plt.show()"
      ],
      "execution_count": 3,
      "outputs": [
        {
          "output_type": "stream",
          "text": [
            "Tensor(\"X_1:0\", dtype=float32)\n"
          ],
          "name": "stdout"
        }
      ]
    },
    {
      "cell_type": "markdown",
      "metadata": {
        "id": "m3ba0_zRXJqF",
        "colab_type": "text"
      },
      "source": [
        ""
      ]
    }
  ]
}